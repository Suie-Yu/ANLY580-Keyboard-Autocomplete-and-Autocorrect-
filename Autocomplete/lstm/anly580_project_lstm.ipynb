{
 "cells": [
  {
   "cell_type": "markdown",
   "metadata": {},
   "source": [
    "## Import data"
   ]
  },
  {
   "cell_type": "code",
   "execution_count": null,
   "metadata": {
    "colab": {
     "base_uri": "https://localhost:8080/",
     "height": 206
    },
    "executionInfo": {
     "elapsed": 9415,
     "status": "ok",
     "timestamp": 1669658356613,
     "user": {
      "displayName": "Shide Pu",
      "userId": "14076479773774825117"
     },
     "user_tz": 300
    },
    "id": "4QNLisAzqJHS",
    "outputId": "f61bfa95-d076-4040-8bf0-328cf56b7d3e"
   },
   "outputs": [
    {
     "data": {
      "text/html": [
       "\n",
       "  <div id=\"df-45408ac4-f17f-4b8e-a60e-a25c086703e6\">\n",
       "    <div class=\"colab-df-container\">\n",
       "      <div>\n",
       "<style scoped>\n",
       "    .dataframe tbody tr th:only-of-type {\n",
       "        vertical-align: middle;\n",
       "    }\n",
       "\n",
       "    .dataframe tbody tr th {\n",
       "        vertical-align: top;\n",
       "    }\n",
       "\n",
       "    .dataframe thead th {\n",
       "        text-align: right;\n",
       "    }\n",
       "</style>\n",
       "<table border=\"1\" class=\"dataframe\">\n",
       "  <thead>\n",
       "    <tr style=\"text-align: right;\">\n",
       "      <th></th>\n",
       "      <th>Unnamed: 0</th>\n",
       "      <th>id</th>\n",
       "      <th>url</th>\n",
       "      <th>title</th>\n",
       "      <th>text</th>\n",
       "    </tr>\n",
       "  </thead>\n",
       "  <tbody>\n",
       "    <tr>\n",
       "      <th>0</th>\n",
       "      <td>0</td>\n",
       "      <td>1658014</td>\n",
       "      <td>https://en.wikipedia.org/wiki/Adrienne%20Mayor</td>\n",
       "      <td>Adrienne Mayor</td>\n",
       "      <td>Adrienne Mayor (born 1946) is a historian of a...</td>\n",
       "    </tr>\n",
       "    <tr>\n",
       "      <th>1</th>\n",
       "      <td>1</td>\n",
       "      <td>415109</td>\n",
       "      <td>https://en.wikipedia.org/wiki/Jo%20Stafford</td>\n",
       "      <td>Jo Stafford</td>\n",
       "      <td>Jo Elizabeth Stafford (November 12, 1917July 1...</td>\n",
       "    </tr>\n",
       "    <tr>\n",
       "      <th>2</th>\n",
       "      <td>2</td>\n",
       "      <td>733308</td>\n",
       "      <td>https://en.wikipedia.org/wiki/Milan%20Rapai%C4%87</td>\n",
       "      <td>Milan Rapaić</td>\n",
       "      <td>Milan \"Miki\" Rapaić (born 16 August 1973) is a...</td>\n",
       "    </tr>\n",
       "    <tr>\n",
       "      <th>3</th>\n",
       "      <td>3</td>\n",
       "      <td>2597099</td>\n",
       "      <td>https://en.wikipedia.org/wiki/Windsor%20North%...</td>\n",
       "      <td>Windsor North School</td>\n",
       "      <td>Windsor North School is a primary school in In...</td>\n",
       "    </tr>\n",
       "    <tr>\n",
       "      <th>4</th>\n",
       "      <td>4</td>\n",
       "      <td>690250</td>\n",
       "      <td>https://en.wikipedia.org/wiki/List%20of%20rive...</td>\n",
       "      <td>List of rivers of Missouri</td>\n",
       "      <td>List of rivers in Missouri (U.S. state).\\n\\nBy...</td>\n",
       "    </tr>\n",
       "  </tbody>\n",
       "</table>\n",
       "</div>\n",
       "      <button class=\"colab-df-convert\" onclick=\"convertToInteractive('df-45408ac4-f17f-4b8e-a60e-a25c086703e6')\"\n",
       "              title=\"Convert this dataframe to an interactive table.\"\n",
       "              style=\"display:none;\">\n",
       "        \n",
       "  <svg xmlns=\"http://www.w3.org/2000/svg\" height=\"24px\"viewBox=\"0 0 24 24\"\n",
       "       width=\"24px\">\n",
       "    <path d=\"M0 0h24v24H0V0z\" fill=\"none\"/>\n",
       "    <path d=\"M18.56 5.44l.94 2.06.94-2.06 2.06-.94-2.06-.94-.94-2.06-.94 2.06-2.06.94zm-11 1L8.5 8.5l.94-2.06 2.06-.94-2.06-.94L8.5 2.5l-.94 2.06-2.06.94zm10 10l.94 2.06.94-2.06 2.06-.94-2.06-.94-.94-2.06-.94 2.06-2.06.94z\"/><path d=\"M17.41 7.96l-1.37-1.37c-.4-.4-.92-.59-1.43-.59-.52 0-1.04.2-1.43.59L10.3 9.45l-7.72 7.72c-.78.78-.78 2.05 0 2.83L4 21.41c.39.39.9.59 1.41.59.51 0 1.02-.2 1.41-.59l7.78-7.78 2.81-2.81c.8-.78.8-2.07 0-2.86zM5.41 20L4 18.59l7.72-7.72 1.47 1.35L5.41 20z\"/>\n",
       "  </svg>\n",
       "      </button>\n",
       "      \n",
       "  <style>\n",
       "    .colab-df-container {\n",
       "      display:flex;\n",
       "      flex-wrap:wrap;\n",
       "      gap: 12px;\n",
       "    }\n",
       "\n",
       "    .colab-df-convert {\n",
       "      background-color: #E8F0FE;\n",
       "      border: none;\n",
       "      border-radius: 50%;\n",
       "      cursor: pointer;\n",
       "      display: none;\n",
       "      fill: #1967D2;\n",
       "      height: 32px;\n",
       "      padding: 0 0 0 0;\n",
       "      width: 32px;\n",
       "    }\n",
       "\n",
       "    .colab-df-convert:hover {\n",
       "      background-color: #E2EBFA;\n",
       "      box-shadow: 0px 1px 2px rgba(60, 64, 67, 0.3), 0px 1px 3px 1px rgba(60, 64, 67, 0.15);\n",
       "      fill: #174EA6;\n",
       "    }\n",
       "\n",
       "    [theme=dark] .colab-df-convert {\n",
       "      background-color: #3B4455;\n",
       "      fill: #D2E3FC;\n",
       "    }\n",
       "\n",
       "    [theme=dark] .colab-df-convert:hover {\n",
       "      background-color: #434B5C;\n",
       "      box-shadow: 0px 1px 3px 1px rgba(0, 0, 0, 0.15);\n",
       "      filter: drop-shadow(0px 1px 2px rgba(0, 0, 0, 0.3));\n",
       "      fill: #FFFFFF;\n",
       "    }\n",
       "  </style>\n",
       "\n",
       "      <script>\n",
       "        const buttonEl =\n",
       "          document.querySelector('#df-45408ac4-f17f-4b8e-a60e-a25c086703e6 button.colab-df-convert');\n",
       "        buttonEl.style.display =\n",
       "          google.colab.kernel.accessAllowed ? 'block' : 'none';\n",
       "\n",
       "        async function convertToInteractive(key) {\n",
       "          const element = document.querySelector('#df-45408ac4-f17f-4b8e-a60e-a25c086703e6');\n",
       "          const dataTable =\n",
       "            await google.colab.kernel.invokeFunction('convertToInteractive',\n",
       "                                                     [key], {});\n",
       "          if (!dataTable) return;\n",
       "\n",
       "          const docLinkHtml = 'Like what you see? Visit the ' +\n",
       "            '<a target=\"_blank\" href=https://colab.research.google.com/notebooks/data_table.ipynb>data table notebook</a>'\n",
       "            + ' to learn more about interactive tables.';\n",
       "          element.innerHTML = '';\n",
       "          dataTable['output_type'] = 'display_data';\n",
       "          await google.colab.output.renderOutput(dataTable, element);\n",
       "          const docLink = document.createElement('div');\n",
       "          docLink.innerHTML = docLinkHtml;\n",
       "          element.appendChild(docLink);\n",
       "        }\n",
       "      </script>\n",
       "    </div>\n",
       "  </div>\n",
       "  "
      ],
      "text/plain": [
       "   Unnamed: 0       id                                                url  \\\n",
       "0           0  1658014     https://en.wikipedia.org/wiki/Adrienne%20Mayor   \n",
       "1           1   415109        https://en.wikipedia.org/wiki/Jo%20Stafford   \n",
       "2           2   733308  https://en.wikipedia.org/wiki/Milan%20Rapai%C4%87   \n",
       "3           3  2597099  https://en.wikipedia.org/wiki/Windsor%20North%...   \n",
       "4           4   690250  https://en.wikipedia.org/wiki/List%20of%20rive...   \n",
       "\n",
       "                        title  \\\n",
       "0              Adrienne Mayor   \n",
       "1                 Jo Stafford   \n",
       "2                Milan Rapaić   \n",
       "3        Windsor North School   \n",
       "4  List of rivers of Missouri   \n",
       "\n",
       "                                                text  \n",
       "0  Adrienne Mayor (born 1946) is a historian of a...  \n",
       "1  Jo Elizabeth Stafford (November 12, 1917July 1...  \n",
       "2  Milan \"Miki\" Rapaić (born 16 August 1973) is a...  \n",
       "3  Windsor North School is a primary school in In...  \n",
       "4  List of rivers in Missouri (U.S. state).\\n\\nBy...  "
      ]
     },
     "execution_count": 3,
     "metadata": {},
     "output_type": "execute_result"
    }
   ],
   "source": [
    "import datasets\n",
    "import pandas as pd\n",
    "\n",
    "wikidata = datasets.load_dataset(\"wikipedia\", \"20220301.en\", split=['train[:10%]'])\n",
    "df_wiki = wikidata[0].to_pandas().sample(frac=1, random_state=42).reset_index(drop=True)[:100000]\n",
    "df_wiki.head()"
   ]
  },
  {
   "cell_type": "code",
   "execution_count": null,
   "metadata": {
    "id": "MXAThAnNzQ5v"
   },
   "outputs": [],
   "source": [
    "def count_len(sentence):\n",
    "    return len(sentence.split())\n",
    "\n",
    "df_wiki[\"document_length\"] = df_wiki.text.map(count_len)"
   ]
  },
  {
   "cell_type": "code",
   "execution_count": null,
   "metadata": {
    "colab": {
     "base_uri": "https://localhost:8080/",
     "height": 504
    },
    "executionInfo": {
     "elapsed": 628,
     "status": "ok",
     "timestamp": 1669665796251,
     "user": {
      "displayName": "Shide Pu",
      "userId": "14076479773774825117"
     },
     "user_tz": 300
    },
    "id": "hWVfai_Xz-Yc",
    "outputId": "b2fef9df-9c36-47cd-a263-83753cae96eb"
   },
   "outputs": [
    {
     "data": {
      "image/png": "[encoded data removed]",
      "text/plain": [
       "<Figure size 1080x576 with 1 Axes>"
      ]
     },
     "metadata": {
      "needs_background": "light"
     },
     "output_type": "display_data"
    }
   ],
   "source": [
    "df_wiki.hist(\"document_length\", figsize=(15, 8))\n",
    "plt.title(\"Document length distribution\", fontsize=20)\n",
    "plt.savefig(\"document_length\")\n",
    "plt.show()"
   ]
  },
  {
   "cell_type": "code",
   "execution_count": 1,
   "metadata": {
    "colab": {
     "base_uri": "https://localhost:8080/"
    },
    "executionInfo": {
     "elapsed": 4139,
     "status": "ok",
     "timestamp": 1669835759237,
     "user": {
      "displayName": "Shide Pu",
      "userId": "14076479773774825117"
     },
     "user_tz": 300
    },
    "id": "QgEeYFJwmtGS",
    "outputId": "717261c7-7959-4031-c4e5-09249aa611c2"
   },
   "outputs": [
    {
     "name": "stdout",
     "output_type": "stream",
     "text": [
      "2.9.2\n",
      "[PhysicalDevice(name='/physical_device:CPU:0', device_type='CPU'), PhysicalDevice(name='/physical_device:GPU:0', device_type='GPU')]\n"
     ]
    }
   ],
   "source": [
    "import numpy as np\n",
    "import matplotlib.pyplot as plt\n",
    "import nltk\n",
    "import re\n",
    "import tensorflow as tf\n",
    "from keras import backend\n",
    "from keras.models import Sequential, load_model\n",
    "from keras.layers import Dense, Activation, Bidirectional, LSTM, Dropout\n",
    "from keras.optimizers import RMSprop\n",
    "import pickle\n",
    "import heapq\n",
    "print(tf.__version__)\n",
    "print(tf.config.list_physical_devices())"
   ]
  },
  {
   "cell_type": "code",
   "execution_count": null,
   "metadata": {
    "colab": {
     "base_uri": "https://localhost:8080/"
    },
    "executionInfo": {
     "elapsed": 2,
     "status": "ok",
     "timestamp": 1669658362678,
     "user": {
      "displayName": "Shide Pu",
      "userId": "14076479773774825117"
     },
     "user_tz": 300
    },
    "id": "7eOPrLBooJHp",
    "outputId": "d7e6f977-cd0b-45b7-858b-063b3418ee48"
   },
   "outputs": [
    {
     "name": "stdout",
     "output_type": "stream",
     "text": [
      "Default GPU Device:/device:GPU:0\n"
     ]
    }
   ],
   "source": [
    "if tf.test.gpu_device_name(): \n",
    "  print('Default GPU Device:{}'.format(tf.test.gpu_device_name()))\n",
    "else:\n",
    "  print(\"Please install GPU version of TF\")"
   ]
  },
  {
   "cell_type": "markdown",
   "metadata": {},
   "source": [
    "## Generate training data and prediction data"
   ]
  },
  {
   "cell_type": "code",
   "execution_count": null,
   "metadata": {
    "id": "ck8mZ1us40AA"
   },
   "outputs": [],
   "source": [
    "def text_cleaner(text):\n",
    "    clean_text = text.lower() # change to lower case\n",
    "    # regex to match most of url links\n",
    "    url = r'''(https?:\\/\\/(?:www\\.|(?!www))[a-zA-Z0-9][a-zA-Z0-9-]+[a-zA-Z0-9]\\.[^\\s]{2,}\n",
    "    |www\\.[a-zA-Z0-9][a-zA-Z0-9-]+[a-zA-Z0-9]\\.[^\\s]{2,}|https?:\\/\\/(?:www\\.|(?!www))[a-zA-Z0-9]+\\.[^\\s]{2,}\n",
    "    |www\\.[a-zA-Z0-9]+\\.[^\\s]{2,})'''\n",
    "    clean_text = re.sub(url, '', clean_text) # remove url links\n",
    "    clean_text = re.sub(r'\\([^)]*\\)', '', clean_text) # remove text inside ()\n",
    "    clean_text = re.sub(r'\\[|\\]', '', clean_text) # remove []\n",
    "    clean_text = re.sub(r'\\“|\\”','', clean_text) # remove \"\"\n",
    "    clean_text = re.sub(r'\\\"','', clean_text) # remove \"\n",
    "    clean_text = re.sub(r\"(?<=\\d),(?=\\d)\", \"\", clean_text) # remove , inside digit\n",
    "    clean_text = re.sub(r\"[\\-\\—]\", \" \", clean_text) # remove - and -- \n",
    "    clean_text = re.sub(r\"\\d+\", \"number\", clean_text) # replace digit to number token\n",
    "    clean_text = re.sub(r\"'s\", \"\", clean_text) # remove 's\n",
    "    clean_text = re.sub(r\"[^a-zA-Z0-9 \\,\\.\\!\\?]\", \"\", clean_text) # remove text that are not english characters\n",
    "    clean_text = re.sub(r\"\\s+\", \" \", clean_text) # remove extra white space\n",
    "    return clean_text"
   ]
  },
  {
   "cell_type": "code",
   "execution_count": null,
   "metadata": {
    "colab": {
     "base_uri": "https://localhost:8080/"
    },
    "executionInfo": {
     "elapsed": 126,
     "status": "ok",
     "timestamp": 1669658572009,
     "user": {
      "displayName": "Shide Pu",
      "userId": "14076479773774825117"
     },
     "user_tz": 300
    },
    "id": "sV0ZOEz75Zuj",
    "outputId": "d53a59e7-d484-46fe-a1c7-d4be60faed00"
   },
   "outputs": [
    {
     "data": {
      "text/plain": [
       "31"
      ]
     },
     "execution_count": 7,
     "metadata": {},
     "output_type": "execute_result"
    }
   ],
   "source": [
    "set_of_chars = sorted([' ', '!', ',', '.', '?', 'a', 'b', 'c', 'd', 'e', 'f', 'g', 'h', 'i', 'j',\n",
    "  'k', 'l', 'm', 'n', 'o', 'p', 'q', 'r', 's', 't', 'u', 'v', 'w', 'x', 'y', 'z'])\n",
    "char_to_index = dict((c, i) for i, c in enumerate(set_of_chars))\n",
    "index_to_char = dict((i, c) for i, c in enumerate(set_of_chars))\n",
    "len(set_of_chars)"
   ]
  },
  {
   "cell_type": "code",
   "execution_count": null,
   "metadata": {
    "id": "k1ua_Mu9Gl05"
   },
   "outputs": [],
   "source": [
    "def generator(data, document_size, sequence_length, step, batch_size=128):\n",
    "    \"\"\"python generator to create training documents.\"\"\"\n",
    "    for i in range(0, len(data), document_size):\n",
    "        documents = data[i : i + batch_size][\"text\"].map(text_cleaner).tolist()\n",
    "        sentences = []\n",
    "        next_chars = []\n",
    "        for text in documents:\n",
    "            for i in range(0, len(text) - sequence_length, step):\n",
    "                # generate fixed length sequence as training documents\n",
    "                sentences.append(text[i: i + sequence_length])\n",
    "                # use the next character as prediction documents\n",
    "                next_chars.append(text[i + sequence_length])\n",
    "        for i in range(0, len(sentences), batch_size):\n",
    "            # generate batch\n",
    "            current_sentence = sentences[i : i + batch_size]\n",
    "            current_next_chars = next_chars[i : i + batch_size]\n",
    "            # perform one-hot encoding\n",
    "            X = np.zeros((batch_size, sequence_length, len(set_of_chars)), dtype=bool)\n",
    "            y = np.zeros((batch_size, len(set_of_chars)), dtype=bool)\n",
    "            for i, sentence in enumerate(current_sentence):\n",
    "                for t, char in enumerate(sentence):\n",
    "                    X[i, t, char_to_index[char]] = 1\n",
    "            y[i, char_to_index[current_next_chars[i]]] = 1\n",
    "            yield X, y"
   ]
  },
  {
   "cell_type": "code",
   "execution_count": null,
   "metadata": {
    "id": "PCnNUgPRaeug"
   },
   "outputs": [],
   "source": [
    "def plot_history(history,title):\n",
    "    \"\"\"plot training and validation history\"\"\"\n",
    "    loss = history['loss']\n",
    "    val_loss = history['val_loss']\n",
    "    accuracy = history['accuracy']\n",
    "    val_accuracy = history['val_accuracy']\n",
    "    epochs = range(1, len(loss) + 1)\n",
    "    fig, ax = plt.subplots(1, 2, figsize=(16, 8))\n",
    "    ax[0].plot(epochs, loss, 'bo', label=\"Training\")\n",
    "    ax[0].plot(epochs, val_loss, 'b', label='Validation')\n",
    "    ax[0].set_title(\"Training and validation loss\")\n",
    "    ax[1].plot(epochs, accuracy, 'bo')\n",
    "    ax[1].plot(epochs, val_accuracy, 'b')\n",
    "    ax[1].set_title(\"Training and validation accuracy\")\n",
    "    fig.suptitle('Training and validation loss and accuracy of ' + title, fontsize=15)\n",
    "    fig.legend()\n",
    "    fig.savefig('history_'+\"_\".join(title.split())+'.png')\n",
    "    fig.show()"
   ]
  },
  {
   "cell_type": "code",
   "execution_count": null,
   "metadata": {
    "id": "BSwGE6GuHX0n"
   },
   "outputs": [],
   "source": [
    "N = len(df_wiki)\n",
    "B1 = 0\n",
    "B2 = int(N * 0.8)\n",
    "B3 = B2\n",
    "B4 = int(N * 0.9)\n",
    "B5 = B4\n",
    "B6 = int(N * 1.0)\n",
    "EPOCHS = 10\n",
    "f_batch = 1 / EPOCHS\n",
    "batch_size = 128\n",
    "batch_size_v = 128\n",
    "steps_per_epoch  = 2500\n",
    "val_steps = int(steps_per_epoch * 0.1)\n",
    "sequence_length = 32\n",
    "step = 4\n",
    "document_size = 100"
   ]
  },
  {
   "cell_type": "code",
   "execution_count": null,
   "metadata": {
    "id": "nspiUrYzfUlx"
   },
   "outputs": [],
   "source": [
    "# generate training, validation and test data\n",
    "train_gen = generator(df_wiki[:B2], document_size, sequence_length=sequence_length, step=step)\n",
    "val_gen = generator(df_wiki[B3:B4], document_size, sequence_length=sequence_length, step=step)\n",
    "test_gen = generator(df_wiki[B5:B6], document_size, sequence_length=sequence_length, step=step)"
   ]
  },
  {
   "cell_type": "markdown",
   "metadata": {},
   "source": [
    "## Model Training"
   ]
  },
  {
   "cell_type": "markdown",
   "metadata": {
    "id": "xxJdGPk4MMgD"
   },
   "source": [
    "### One layer of LSTM"
   ]
  },
  {
   "cell_type": "code",
   "execution_count": null,
   "metadata": {
    "colab": {
     "base_uri": "https://localhost:8080/"
    },
    "executionInfo": {
     "elapsed": 525,
     "status": "ok",
     "timestamp": 1669660306918,
     "user": {
      "displayName": "Shide Pu",
      "userId": "14076479773774825117"
     },
     "user_tz": 300
    },
    "id": "lFOuhhJa6Unl",
    "outputId": "c8e823fb-2e21-48a3-d603-0e040515755a"
   },
   "outputs": [
    {
     "name": "stdout",
     "output_type": "stream",
     "text": [
      "Model: \"sequential\"\n",
      "_________________________________________________________________\n",
      " Layer (type)                Output Shape              Param #   \n",
      "=================================================================\n",
      " lstm (LSTM)                 (None, 128)               81920     \n",
      "                                                                 \n",
      " dense (Dense)               (None, 31)                3999      \n",
      "                                                                 \n",
      " activation (Activation)     (None, 31)                0         \n",
      "                                                                 \n",
      "=================================================================\n",
      "Total params: 85,919\n",
      "Trainable params: 85,919\n",
      "Non-trainable params: 0\n",
      "_________________________________________________________________\n"
     ]
    }
   ],
   "source": [
    "backend.clear_session()\n",
    "model_lstm1 = Sequential()\n",
    "model_lstm1.add(LSTM(128, input_shape=(sequence_length, len(set_of_chars))))\n",
    "model_lstm1.add(Dense(len(set_of_chars)))\n",
    "model_lstm1.add(Activation('softmax'))\n",
    "model_lstm1.summary()"
   ]
  },
  {
   "cell_type": "code",
   "execution_count": null,
   "metadata": {
    "colab": {
     "base_uri": "https://localhost:8080/"
    },
    "executionInfo": {
     "elapsed": 263964,
     "status": "ok",
     "timestamp": 1669660578526,
     "user": {
      "displayName": "Shide Pu",
      "userId": "14076479773774825117"
     },
     "user_tz": 300
    },
    "id": "mSAmy51arXlI",
    "outputId": "aad59eb0-7141-4941-ee78-fc740353c3cb"
   },
   "outputs": [
    {
     "name": "stdout",
     "output_type": "stream",
     "text": [
      "Epoch 1/10\n",
      "2500/2500 [==============================] - 25s 9ms/step - loss: 1.8747 - accuracy: 0.4529 - val_loss: 1.9694 - val_accuracy: 0.4192\n",
      "Epoch 2/10\n",
      "2500/2500 [==============================] - 19s 8ms/step - loss: 1.6148 - accuracy: 0.5267 - val_loss: 1.7635 - val_accuracy: 0.4833\n",
      "Epoch 3/10\n",
      "2500/2500 [==============================] - 22s 9ms/step - loss: 1.6143 - accuracy: 0.5247 - val_loss: 1.6919 - val_accuracy: 0.5028\n",
      "Epoch 4/10\n",
      "2500/2500 [==============================] - 22s 9ms/step - loss: 1.5503 - accuracy: 0.5409 - val_loss: 1.7622 - val_accuracy: 0.4929\n",
      "Epoch 5/10\n",
      "2500/2500 [==============================] - 21s 8ms/step - loss: 1.5821 - accuracy: 0.5346 - val_loss: 1.7380 - val_accuracy: 0.4959\n",
      "Epoch 6/10\n",
      "2500/2500 [==============================] - 19s 7ms/step - loss: 1.5495 - accuracy: 0.5447 - val_loss: 1.8113 - val_accuracy: 0.4804\n",
      "Epoch 7/10\n",
      "2500/2500 [==============================] - 23s 9ms/step - loss: 1.5490 - accuracy: 0.5417 - val_loss: 1.7071 - val_accuracy: 0.5060\n",
      "Epoch 8/10\n",
      "2500/2500 [==============================] - 20s 8ms/step - loss: 1.5344 - accuracy: 0.5473 - val_loss: 1.8563 - val_accuracy: 0.4730\n",
      "Epoch 9/10\n",
      "2500/2500 [==============================] - 22s 9ms/step - loss: 1.5275 - accuracy: 0.5470 - val_loss: 1.6702 - val_accuracy: 0.5114\n",
      "Epoch 10/10\n",
      "2500/2500 [==============================] - 20s 8ms/step - loss: 1.5361 - accuracy: 0.5478 - val_loss: 1.8017 - val_accuracy: 0.4805\n"
     ]
    }
   ],
   "source": [
    "EPOCHS = 10\n",
    "steps_per_epoch = 2500\n",
    "optimizer = RMSprop(learning_rate=0.01)\n",
    "model_lstm1.compile(loss='categorical_crossentropy', optimizer=optimizer, metrics=['accuracy'])\n",
    "history_lstm1 = model_lstm1.fit(train_gen, steps_per_epoch=steps_per_epoch, epochs=EPOCHS, validation_data=val_gen, validation_steps=val_steps).history"
   ]
  },
  {
   "cell_type": "code",
   "execution_count": null,
   "metadata": {
    "colab": {
     "base_uri": "https://localhost:8080/",
     "height": 547
    },
    "executionInfo": {
     "elapsed": 1052,
     "status": "ok",
     "timestamp": 1669660899311,
     "user": {
      "displayName": "Shide Pu",
      "userId": "14076479773774825117"
     },
     "user_tz": 300
    },
    "id": "4fpdrIvUa5FD",
    "outputId": "5e4f682d-f048-46c7-e100-9e6f2e19b7a9"
   },
   "outputs": [
    {
     "data": {
      "image/png": "[encoded data removed]",
      "text/plain": [
       "<Figure size 1152x576 with 2 Axes>"
      ]
     },
     "metadata": {
      "needs_background": "light"
     },
     "output_type": "display_data"
    }
   ],
   "source": [
    "plot_history(history_lstm1, \"one layer LSTM\")"
   ]
  },
  {
   "cell_type": "markdown",
   "metadata": {
    "id": "LmreAQ4ZMUvi"
   },
   "source": [
    "### Tree layers of LSTM"
   ]
  },
  {
   "cell_type": "code",
   "execution_count": null,
   "metadata": {
    "colab": {
     "base_uri": "https://localhost:8080/"
    },
    "executionInfo": {
     "elapsed": 808,
     "status": "ok",
     "timestamp": 1669661883060,
     "user": {
      "displayName": "Shide Pu",
      "userId": "14076479773774825117"
     },
     "user_tz": 300
    },
    "id": "dDQpLWPqMLfK",
    "outputId": "b403dbc9-7c50-43c1-bb7b-760c69ca7e39"
   },
   "outputs": [
    {
     "name": "stdout",
     "output_type": "stream",
     "text": [
      "Model: \"sequential\"\n",
      "_________________________________________________________________\n",
      " Layer (type)                Output Shape              Param #   \n",
      "=================================================================\n",
      " lstm (LSTM)                 (None, 32, 128)           81920     \n",
      "                                                                 \n",
      " lstm_1 (LSTM)               (None, 32, 128)           131584    \n",
      "                                                                 \n",
      " lstm_2 (LSTM)               (None, 128)               131584    \n",
      "                                                                 \n",
      " dense (Dense)               (None, 31)                3999      \n",
      "                                                                 \n",
      " activation (Activation)     (None, 31)                0         \n",
      "                                                                 \n",
      "=================================================================\n",
      "Total params: 349,087\n",
      "Trainable params: 349,087\n",
      "Non-trainable params: 0\n",
      "_________________________________________________________________\n"
     ]
    }
   ],
   "source": [
    "backend.clear_session()\n",
    "model_lstm3 = Sequential()\n",
    "model_lstm3.add(LSTM(128, input_shape=(sequence_length, len(set_of_chars)), return_sequences=True))\n",
    "model_lstm3.add(LSTM(128, input_shape=(sequence_length, len(set_of_chars)), return_sequences=True))\n",
    "model_lstm3.add(LSTM(128, input_shape=(sequence_length, len(set_of_chars))))\n",
    "model_lstm3.add(Dense(len(set_of_chars)))\n",
    "model_lstm3.add(Activation('softmax'))\n",
    "model_lstm3.summary()"
   ]
  },
  {
   "cell_type": "code",
   "execution_count": null,
   "metadata": {
    "colab": {
     "base_uri": "https://localhost:8080/"
    },
    "executionInfo": {
     "elapsed": 346413,
     "status": "ok",
     "timestamp": 1669662231204,
     "user": {
      "displayName": "Shide Pu",
      "userId": "14076479773774825117"
     },
     "user_tz": 300
    },
    "id": "680IjiJzMaSc",
    "outputId": "3c71c040-964b-4234-f6f1-4d65277ecd83"
   },
   "outputs": [
    {
     "name": "stdout",
     "output_type": "stream",
     "text": [
      "Epoch 1/10\n",
      "2500/2500 [==============================] - 40s 14ms/step - loss: 2.2877 - accuracy: 0.3286 - val_loss: 2.0302 - val_accuracy: 0.3995\n",
      "Epoch 2/10\n",
      "2500/2500 [==============================] - 34s 14ms/step - loss: 1.8487 - accuracy: 0.4530 - val_loss: 1.8660 - val_accuracy: 0.4511\n",
      "Epoch 3/10\n",
      "2500/2500 [==============================] - 34s 13ms/step - loss: 1.7162 - accuracy: 0.4947 - val_loss: 1.7917 - val_accuracy: 0.4703\n",
      "Epoch 4/10\n",
      "2500/2500 [==============================] - 34s 14ms/step - loss: 1.6296 - accuracy: 0.5225 - val_loss: 1.6732 - val_accuracy: 0.5048\n",
      "Epoch 5/10\n",
      "2500/2500 [==============================] - 34s 14ms/step - loss: 1.5969 - accuracy: 0.5325 - val_loss: 1.6869 - val_accuracy: 0.5049\n",
      "Epoch 6/10\n",
      "2500/2500 [==============================] - 34s 14ms/step - loss: 1.5441 - accuracy: 0.5482 - val_loss: 1.6755 - val_accuracy: 0.5124\n",
      "Epoch 7/10\n",
      "2500/2500 [==============================] - 34s 14ms/step - loss: 1.5479 - accuracy: 0.5433 - val_loss: 1.6878 - val_accuracy: 0.5122\n",
      "Epoch 8/10\n",
      "2500/2500 [==============================] - 34s 13ms/step - loss: 1.4936 - accuracy: 0.5594 - val_loss: 1.5464 - val_accuracy: 0.5482\n",
      "Epoch 9/10\n",
      "2500/2500 [==============================] - 34s 14ms/step - loss: 1.4650 - accuracy: 0.5658 - val_loss: 1.6355 - val_accuracy: 0.5231\n",
      "Epoch 10/10\n",
      "2500/2500 [==============================] - 34s 14ms/step - loss: 1.4943 - accuracy: 0.5563 - val_loss: 1.5986 - val_accuracy: 0.5293\n"
     ]
    }
   ],
   "source": [
    "optimizer = RMSprop(learning_rate=0.001)\n",
    "model_lstm3.compile(loss='categorical_crossentropy', optimizer=optimizer, metrics=['accuracy'])\n",
    "history_lstm3 = model_lstm3.fit(train_gen, steps_per_epoch=steps_per_epoch, epochs=EPOCHS, validation_data=val_gen, validation_steps=val_steps).history"
   ]
  },
  {
   "cell_type": "code",
   "execution_count": null,
   "metadata": {
    "colab": {
     "base_uri": "https://localhost:8080/",
     "height": 547
    },
    "executionInfo": {
     "elapsed": 609,
     "status": "ok",
     "timestamp": 1669662240865,
     "user": {
      "displayName": "Shide Pu",
      "userId": "14076479773774825117"
     },
     "user_tz": 300
    },
    "id": "VFONZC9YkQf1",
    "outputId": "ddba0c5d-1734-4beb-81c8-5ee51f758907"
   },
   "outputs": [
    {
     "data": {
      "image/png": "[encoded data removed]",
      "text/plain": [
       "<Figure size 1152x576 with 2 Axes>"
      ]
     },
     "metadata": {
      "needs_background": "light"
     },
     "output_type": "display_data"
    }
   ],
   "source": [
    "plot_history(history_lstm3, \"three layers LSTM\")"
   ]
  },
  {
   "cell_type": "markdown",
   "metadata": {
    "id": "UacnIzr6jwZ3"
   },
   "source": [
    "### Five layers of LSTM"
   ]
  },
  {
   "cell_type": "code",
   "execution_count": null,
   "metadata": {
    "colab": {
     "base_uri": "https://localhost:8080/"
    },
    "executionInfo": {
     "elapsed": 1537,
     "status": "ok",
     "timestamp": 1669662458310,
     "user": {
      "displayName": "Shide Pu",
      "userId": "14076479773774825117"
     },
     "user_tz": 300
    },
    "id": "fK_NKFeeONEU",
    "outputId": "7bb225da-082a-46cf-e8b2-1b9c6603abcc"
   },
   "outputs": [
    {
     "name": "stdout",
     "output_type": "stream",
     "text": [
      "Model: \"sequential\"\n",
      "_________________________________________________________________\n",
      " Layer (type)                Output Shape              Param #   \n",
      "=================================================================\n",
      " lstm (LSTM)                 (None, 32, 128)           81920     \n",
      "                                                                 \n",
      " lstm_1 (LSTM)               (None, 32, 128)           131584    \n",
      "                                                                 \n",
      " lstm_2 (LSTM)               (None, 32, 128)           131584    \n",
      "                                                                 \n",
      " lstm_3 (LSTM)               (None, 32, 128)           131584    \n",
      "                                                                 \n",
      " lstm_4 (LSTM)               (None, 128)               131584    \n",
      "                                                                 \n",
      " dense (Dense)               (None, 31)                3999      \n",
      "                                                                 \n",
      " activation (Activation)     (None, 31)                0         \n",
      "                                                                 \n",
      "=================================================================\n",
      "Total params: 612,255\n",
      "Trainable params: 612,255\n",
      "Non-trainable params: 0\n",
      "_________________________________________________________________\n"
     ]
    }
   ],
   "source": [
    "backend.clear_session()\n",
    "model_lstm5 = Sequential()\n",
    "model_lstm5.add(LSTM(128, input_shape=(sequence_length, len(set_of_chars)), return_sequences=True))\n",
    "model_lstm5.add(LSTM(128, input_shape=(sequence_length, len(set_of_chars)), return_sequences=True))\n",
    "model_lstm5.add(LSTM(128, input_shape=(sequence_length, len(set_of_chars)), return_sequences=True))\n",
    "model_lstm5.add(LSTM(128, input_shape=(sequence_length, len(set_of_chars)), return_sequences=True))\n",
    "model_lstm5.add(LSTM(128, input_shape=(sequence_length, len(set_of_chars))))\n",
    "model_lstm5.add(Dense(len(set_of_chars)))\n",
    "model_lstm5.add(Activation('softmax'))\n",
    "model_lstm5.summary()"
   ]
  },
  {
   "cell_type": "code",
   "execution_count": null,
   "metadata": {
    "colab": {
     "base_uri": "https://localhost:8080/"
    },
    "executionInfo": {
     "elapsed": 558297,
     "status": "ok",
     "timestamp": 1669663022442,
     "user": {
      "displayName": "Shide Pu",
      "userId": "14076479773774825117"
     },
     "user_tz": 300
    },
    "id": "SiSvE8AycN3A",
    "outputId": "b3f42ea2-d0df-41c7-d5ee-11b580352d8f"
   },
   "outputs": [
    {
     "name": "stdout",
     "output_type": "stream",
     "text": [
      "Epoch 1/10\n",
      "2500/2500 [==============================] - 110s 20ms/step - loss: 2.5138 - accuracy: 0.2681 - val_loss: 2.2081 - val_accuracy: 0.3499\n",
      "Epoch 2/10\n",
      "2500/2500 [==============================] - 49s 20ms/step - loss: 2.0086 - accuracy: 0.4064 - val_loss: 2.0871 - val_accuracy: 0.3810\n",
      "Epoch 3/10\n",
      "2500/2500 [==============================] - 50s 20ms/step - loss: 1.8423 - accuracy: 0.4568 - val_loss: 1.9258 - val_accuracy: 0.4368\n",
      "Epoch 4/10\n",
      "2500/2500 [==============================] - 52s 21ms/step - loss: 1.7333 - accuracy: 0.4888 - val_loss: 1.8440 - val_accuracy: 0.4574\n",
      "Epoch 5/10\n",
      "2500/2500 [==============================] - 49s 19ms/step - loss: 1.6683 - accuracy: 0.5098 - val_loss: 1.8246 - val_accuracy: 0.4667\n",
      "Epoch 6/10\n",
      "2500/2500 [==============================] - 49s 20ms/step - loss: 1.6186 - accuracy: 0.5226 - val_loss: 1.7110 - val_accuracy: 0.4934\n",
      "Epoch 7/10\n",
      "2500/2500 [==============================] - 50s 20ms/step - loss: 1.5938 - accuracy: 0.5326 - val_loss: 1.6346 - val_accuracy: 0.5187\n",
      "Epoch 8/10\n",
      "2500/2500 [==============================] - 50s 20ms/step - loss: 1.5865 - accuracy: 0.5329 - val_loss: 1.7267 - val_accuracy: 0.4927\n",
      "Epoch 9/10\n",
      "2500/2500 [==============================] - 49s 20ms/step - loss: 1.5600 - accuracy: 0.5405 - val_loss: 1.7308 - val_accuracy: 0.4870\n",
      "Epoch 10/10\n",
      "2500/2500 [==============================] - 50s 20ms/step - loss: 1.5511 - accuracy: 0.5456 - val_loss: 1.6383 - val_accuracy: 0.5117\n"
     ]
    }
   ],
   "source": [
    "optimizer = RMSprop(learning_rate=0.001)\n",
    "model_lstm5.compile(loss='categorical_crossentropy', optimizer=optimizer, metrics=['accuracy'])\n",
    "history_lstm5 = model_lstm5.fit(train_gen, steps_per_epoch=steps_per_epoch, epochs=EPOCHS, validation_data=val_gen, validation_steps=val_steps).history"
   ]
  },
  {
   "cell_type": "code",
   "execution_count": null,
   "metadata": {
    "colab": {
     "base_uri": "https://localhost:8080/",
     "height": 547
    },
    "executionInfo": {
     "elapsed": 728,
     "status": "ok",
     "timestamp": 1669663034383,
     "user": {
      "displayName": "Shide Pu",
      "userId": "14076479773774825117"
     },
     "user_tz": 300
    },
    "id": "I5qXOlm_kZMd",
    "outputId": "3d0f54d8-6302-46af-e41c-f8ab343809e5"
   },
   "outputs": [
    {
     "data": {
      "image/png": "[encoded data removed]",
      "text/plain": [
       "<Figure size 1152x576 with 2 Axes>"
      ]
     },
     "metadata": {
      "needs_background": "light"
     },
     "output_type": "display_data"
    }
   ],
   "source": [
    "plot_history(history_lstm5, \"five layers LSTM\")"
   ]
  },
  {
   "cell_type": "markdown",
   "metadata": {
    "id": "vnmVbJoqj2XH"
   },
   "source": [
    "### One layer of Bidirectional LSTM"
   ]
  },
  {
   "cell_type": "code",
   "execution_count": null,
   "metadata": {
    "colab": {
     "base_uri": "https://localhost:8080/"
    },
    "executionInfo": {
     "elapsed": 636,
     "status": "ok",
     "timestamp": 1669663089353,
     "user": {
      "displayName": "Shide Pu",
      "userId": "14076479773774825117"
     },
     "user_tz": 300
    },
    "id": "BfCk5NUTixSf",
    "outputId": "631ed5f4-250e-40a2-cf52-de151b1e460c"
   },
   "outputs": [
    {
     "name": "stdout",
     "output_type": "stream",
     "text": [
      "Model: \"sequential\"\n",
      "_________________________________________________________________\n",
      " Layer (type)                Output Shape              Param #   \n",
      "=================================================================\n",
      " bidirectional (Bidirectiona  (None, 256)              163840    \n",
      " l)                                                              \n",
      "                                                                 \n",
      " dense (Dense)               (None, 31)                7967      \n",
      "                                                                 \n",
      " activation (Activation)     (None, 31)                0         \n",
      "                                                                 \n",
      "=================================================================\n",
      "Total params: 171,807\n",
      "Trainable params: 171,807\n",
      "Non-trainable params: 0\n",
      "_________________________________________________________________\n"
     ]
    }
   ],
   "source": [
    "backend.clear_session() \n",
    "model_bi = Sequential()\n",
    "model_bi.add(Bidirectional(LSTM(128), input_shape=(sequence_length, len(set_of_chars))))\n",
    "model_bi.add(Dense(len(set_of_chars)))\n",
    "model_bi.add(Activation('softmax'))\n",
    "model_bi.summary()"
   ]
  },
  {
   "cell_type": "code",
   "execution_count": null,
   "metadata": {
    "colab": {
     "base_uri": "https://localhost:8080/"
    },
    "executionInfo": {
     "elapsed": 278826,
     "status": "ok",
     "timestamp": 1669663398217,
     "user": {
      "displayName": "Shide Pu",
      "userId": "14076479773774825117"
     },
     "user_tz": 300
    },
    "id": "oki4hqjIi4XC",
    "outputId": "61eb81c9-9131-47ad-f0d1-9ed0d79f2794"
   },
   "outputs": [
    {
     "name": "stdout",
     "output_type": "stream",
     "text": [
      "Epoch 1/10\n",
      "2500/2500 [==============================] - 31s 11ms/step - loss: 1.8568 - accuracy: 0.4556 - val_loss: 1.8358 - val_accuracy: 0.4645\n",
      "Epoch 2/10\n",
      "2500/2500 [==============================] - 27s 11ms/step - loss: 1.6013 - accuracy: 0.5294 - val_loss: 1.7739 - val_accuracy: 0.4767\n",
      "Epoch 3/10\n",
      "2500/2500 [==============================] - 27s 11ms/step - loss: 1.6387 - accuracy: 0.5204 - val_loss: 1.9027 - val_accuracy: 0.4423\n",
      "Epoch 4/10\n",
      "2500/2500 [==============================] - 27s 11ms/step - loss: 1.6188 - accuracy: 0.5259 - val_loss: 1.6876 - val_accuracy: 0.4998\n",
      "Epoch 5/10\n",
      "2500/2500 [==============================] - 28s 11ms/step - loss: 1.5769 - accuracy: 0.5374 - val_loss: 1.6773 - val_accuracy: 0.5137\n",
      "Epoch 6/10\n",
      "2500/2500 [==============================] - 26s 10ms/step - loss: 1.5538 - accuracy: 0.5421 - val_loss: 1.6835 - val_accuracy: 0.5085\n",
      "Epoch 7/10\n",
      "2500/2500 [==============================] - 29s 11ms/step - loss: 1.5366 - accuracy: 0.5489 - val_loss: 1.6576 - val_accuracy: 0.5138\n",
      "Epoch 8/10\n",
      "2500/2500 [==============================] - 32s 13ms/step - loss: 1.5286 - accuracy: 0.5536 - val_loss: 1.6605 - val_accuracy: 0.5092\n",
      "Epoch 9/10\n",
      "2500/2500 [==============================] - 26s 11ms/step - loss: 1.5431 - accuracy: 0.5455 - val_loss: 1.6125 - val_accuracy: 0.5325\n",
      "Epoch 10/10\n",
      "2500/2500 [==============================] - 26s 10ms/step - loss: 1.5648 - accuracy: 0.5383 - val_loss: 1.6199 - val_accuracy: 0.5248\n"
     ]
    }
   ],
   "source": [
    "optimizer = RMSprop(learning_rate=0.01)\n",
    "model_bi.compile(loss='categorical_crossentropy', optimizer=optimizer, metrics=['accuracy'])\n",
    "history_bi = model_bi.fit(train_gen, steps_per_epoch=steps_per_epoch, epochs=EPOCHS, validation_data=val_gen, validation_steps=val_steps).history"
   ]
  },
  {
   "cell_type": "code",
   "execution_count": null,
   "metadata": {
    "colab": {
     "base_uri": "https://localhost:8080/",
     "height": 547
    },
    "executionInfo": {
     "elapsed": 410,
     "status": "ok",
     "timestamp": 1669664037249,
     "user": {
      "displayName": "Shide Pu",
      "userId": "14076479773774825117"
     },
     "user_tz": 300
    },
    "id": "tKKkP-vasDch",
    "outputId": "821d63b3-ef9a-4ffe-cc01-df1b1d468007"
   },
   "outputs": [
    {
     "data": {
      "image/png": "[encoded data removed]",
      "text/plain": [
       "<Figure size 1152x576 with 2 Axes>"
      ]
     },
     "metadata": {
      "needs_background": "light"
     },
     "output_type": "display_data"
    }
   ],
   "source": [
    "plot_history(history_bi, \"one layer Bidirectional LSTM\")"
   ]
  },
  {
   "cell_type": "markdown",
   "metadata": {},
   "source": [
    "### Two layers of Bidirectional LSTM"
   ]
  },
  {
   "cell_type": "code",
   "execution_count": null,
   "metadata": {
    "colab": {
     "base_uri": "https://localhost:8080/"
    },
    "executionInfo": {
     "elapsed": 1599,
     "status": "ok",
     "timestamp": 1669663490298,
     "user": {
      "displayName": "Shide Pu",
      "userId": "14076479773774825117"
     },
     "user_tz": 300
    },
    "id": "ExYnbAPwdXxI",
    "outputId": "b74b60fb-9091-431c-9d91-f7552693f476"
   },
   "outputs": [
    {
     "name": "stdout",
     "output_type": "stream",
     "text": [
      "Model: \"sequential\"\n",
      "_________________________________________________________________\n",
      " Layer (type)                Output Shape              Param #   \n",
      "=================================================================\n",
      " bidirectional (Bidirectiona  (None, 32, 256)          163840    \n",
      " l)                                                              \n",
      "                                                                 \n",
      " bidirectional_1 (Bidirectio  (None, 256)              394240    \n",
      " nal)                                                            \n",
      "                                                                 \n",
      " dense (Dense)               (None, 31)                7967      \n",
      "                                                                 \n",
      " activation (Activation)     (None, 31)                0         \n",
      "                                                                 \n",
      "=================================================================\n",
      "Total params: 566,047\n",
      "Trainable params: 566,047\n",
      "Non-trainable params: 0\n",
      "_________________________________________________________________\n"
     ]
    }
   ],
   "source": [
    "backend.clear_session() \n",
    "model_bi2 = Sequential()\n",
    "model_bi2.add(Bidirectional(LSTM(128,return_sequences=True), input_shape=(sequence_length, len(set_of_chars))))\n",
    "model_bi2.add(Bidirectional(LSTM(128)))\n",
    "model_bi2.add(Dense(len(set_of_chars)))\n",
    "model_bi2.add(Activation('softmax'))\n",
    "model_bi2.summary()"
   ]
  },
  {
   "cell_type": "code",
   "execution_count": null,
   "metadata": {
    "colab": {
     "base_uri": "https://localhost:8080/"
    },
    "executionInfo": {
     "elapsed": 476404,
     "status": "ok",
     "timestamp": 1669664018541,
     "user": {
      "displayName": "Shide Pu",
      "userId": "14076479773774825117"
     },
     "user_tz": 300
    },
    "id": "EluxEynKgrSi",
    "outputId": "5dab682f-d754-4e13-e860-1b444fe1f3c1"
   },
   "outputs": [
    {
     "name": "stdout",
     "output_type": "stream",
     "text": [
      "Epoch 1/10\n",
      "2500/2500 [==============================] - 56s 20ms/step - loss: 2.1752 - accuracy: 0.3596 - val_loss: 2.0284 - val_accuracy: 0.3979\n",
      "Epoch 2/10\n",
      "2500/2500 [==============================] - 59s 24ms/step - loss: 1.8676 - accuracy: 0.4468 - val_loss: 1.9637 - val_accuracy: 0.4235\n",
      "Epoch 3/10\n",
      "2500/2500 [==============================] - 46s 18ms/step - loss: 1.7399 - accuracy: 0.4846 - val_loss: 1.8728 - val_accuracy: 0.4477\n",
      "Epoch 4/10\n",
      "2500/2500 [==============================] - 45s 18ms/step - loss: 1.6238 - accuracy: 0.5210 - val_loss: 1.7729 - val_accuracy: 0.4836\n",
      "Epoch 5/10\n",
      "2500/2500 [==============================] - 45s 18ms/step - loss: 1.5990 - accuracy: 0.5311 - val_loss: 1.7728 - val_accuracy: 0.4804\n",
      "Epoch 6/10\n",
      "2500/2500 [==============================] - 46s 18ms/step - loss: 1.5509 - accuracy: 0.5425 - val_loss: 1.7337 - val_accuracy: 0.4969\n",
      "Epoch 7/10\n",
      "2500/2500 [==============================] - 45s 18ms/step - loss: 1.5340 - accuracy: 0.5484 - val_loss: 1.7549 - val_accuracy: 0.4900\n",
      "Epoch 8/10\n",
      "2500/2500 [==============================] - 45s 18ms/step - loss: 1.4962 - accuracy: 0.5560 - val_loss: 1.5897 - val_accuracy: 0.5334\n",
      "Epoch 9/10\n",
      "2500/2500 [==============================] - 45s 18ms/step - loss: 1.5084 - accuracy: 0.5536 - val_loss: 1.6712 - val_accuracy: 0.5101\n",
      "Epoch 10/10\n",
      "2500/2500 [==============================] - 44s 18ms/step - loss: 1.5076 - accuracy: 0.5550 - val_loss: 1.6408 - val_accuracy: 0.5246\n"
     ]
    }
   ],
   "source": [
    "optimizer = RMSprop(learning_rate=0.001)\n",
    "model_bi2.compile(loss='categorical_crossentropy', optimizer=optimizer, metrics=['accuracy'])\n",
    "history_bi2 = model_bi2.fit(train_gen, steps_per_epoch=steps_per_epoch, epochs=EPOCHS, validation_data=val_gen, validation_steps=val_steps).history"
   ]
  },
  {
   "cell_type": "code",
   "execution_count": null,
   "metadata": {
    "colab": {
     "base_uri": "https://localhost:8080/",
     "height": 547
    },
    "executionInfo": {
     "elapsed": 1694,
     "status": "ok",
     "timestamp": 1669664090354,
     "user": {
      "displayName": "Shide Pu",
      "userId": "14076479773774825117"
     },
     "user_tz": 300
    },
    "id": "ILho6lZUs-xw",
    "outputId": "f9fd41ab-c3d7-435c-aca8-799fea2f77c0"
   },
   "outputs": [
    {
     "data": {
      "image/png": "[encoded data removed]",
      "text/plain": [
       "<Figure size 1152x576 with 2 Axes>"
      ]
     },
     "metadata": {
      "needs_background": "light"
     },
     "output_type": "display_data"
    }
   ],
   "source": [
    "plot_history(history_bi2, \"two layers Bidirectional LSTM\")"
   ]
  },
  {
   "cell_type": "markdown",
   "metadata": {},
   "source": [
    "### One layer of LSTM and one layer of bidirectional LSTM"
   ]
  },
  {
   "cell_type": "code",
   "execution_count": null,
   "metadata": {
    "colab": {
     "base_uri": "https://localhost:8080/"
    },
    "executionInfo": {
     "elapsed": 980,
     "status": "ok",
     "timestamp": 1669664221946,
     "user": {
      "displayName": "Shide Pu",
      "userId": "14076479773774825117"
     },
     "user_tz": 300
    },
    "id": "Z6iOBqJrm_4u",
    "outputId": "ed5cf9c5-1ff0-4cad-e250-490030ae6727"
   },
   "outputs": [
    {
     "name": "stdout",
     "output_type": "stream",
     "text": [
      "Model: \"sequential\"\n",
      "_________________________________________________________________\n",
      " Layer (type)                Output Shape              Param #   \n",
      "=================================================================\n",
      " lstm (LSTM)                 (None, 32, 128)           81920     \n",
      "                                                                 \n",
      " bidirectional (Bidirectiona  (None, 256)              263168    \n",
      " l)                                                              \n",
      "                                                                 \n",
      " dense (Dense)               (None, 31)                7967      \n",
      "                                                                 \n",
      " activation (Activation)     (None, 31)                0         \n",
      "                                                                 \n",
      "=================================================================\n",
      "Total params: 353,055\n",
      "Trainable params: 353,055\n",
      "Non-trainable params: 0\n",
      "_________________________________________________________________\n"
     ]
    }
   ],
   "source": [
    "backend.clear_session() \n",
    "model_bi3 = Sequential()\n",
    "model_bi3.add(LSTM(128, input_shape=(sequence_length, len(set_of_chars)), return_sequences=True))\n",
    "model_bi3.add(Bidirectional(LSTM(128), input_shape=(sequence_length, len(set_of_chars))))\n",
    "model_bi3.add(Dense(len(set_of_chars)))\n",
    "model_bi3.add(Activation('softmax'))\n",
    "model_bi3.summary()"
   ]
  },
  {
   "cell_type": "code",
   "execution_count": null,
   "metadata": {
    "colab": {
     "base_uri": "https://localhost:8080/"
    },
    "executionInfo": {
     "elapsed": 403851,
     "status": "ok",
     "timestamp": 1669664634995,
     "user": {
      "displayName": "Shide Pu",
      "userId": "14076479773774825117"
     },
     "user_tz": 300
    },
    "id": "OKQcRMcBlhHQ",
    "outputId": "fb011af6-f843-4fc3-f0cc-d169c4c81576"
   },
   "outputs": [
    {
     "name": "stdout",
     "output_type": "stream",
     "text": [
      "Epoch 1/10\n",
      "2500/2500 [==============================] - 73s 15ms/step - loss: 2.2513 - accuracy: 0.3389 - val_loss: 2.0183 - val_accuracy: 0.4048\n",
      "Epoch 2/10\n",
      "2500/2500 [==============================] - 37s 15ms/step - loss: 1.8980 - accuracy: 0.4366 - val_loss: 1.8845 - val_accuracy: 0.4420\n",
      "Epoch 3/10\n",
      "2500/2500 [==============================] - 42s 17ms/step - loss: 1.7967 - accuracy: 0.4724 - val_loss: 1.8457 - val_accuracy: 0.4526\n",
      "Epoch 4/10\n",
      "2500/2500 [==============================] - 35s 14ms/step - loss: 1.6963 - accuracy: 0.5011 - val_loss: 1.8339 - val_accuracy: 0.4586\n",
      "Epoch 5/10\n",
      "2500/2500 [==============================] - 36s 14ms/step - loss: 1.6438 - accuracy: 0.5199 - val_loss: 1.7599 - val_accuracy: 0.4835\n",
      "Epoch 6/10\n",
      "2500/2500 [==============================] - 36s 14ms/step - loss: 1.5720 - accuracy: 0.5371 - val_loss: 1.7425 - val_accuracy: 0.4922\n",
      "Epoch 7/10\n",
      "2500/2500 [==============================] - 38s 15ms/step - loss: 1.5435 - accuracy: 0.5449 - val_loss: 1.7247 - val_accuracy: 0.4996\n",
      "Epoch 8/10\n",
      "2500/2500 [==============================] - 37s 15ms/step - loss: 1.5527 - accuracy: 0.5439 - val_loss: 1.7418 - val_accuracy: 0.4820\n",
      "Epoch 9/10\n",
      "2500/2500 [==============================] - 35s 14ms/step - loss: 1.5110 - accuracy: 0.5539 - val_loss: 1.7290 - val_accuracy: 0.4947\n",
      "Epoch 10/10\n",
      "2500/2500 [==============================] - 35s 14ms/step - loss: 1.4854 - accuracy: 0.5606 - val_loss: 1.6576 - val_accuracy: 0.5084\n"
     ]
    }
   ],
   "source": [
    "optimizer = RMSprop(learning_rate=0.001)\n",
    "model_bi3.compile(loss='categorical_crossentropy', optimizer=optimizer, metrics=['accuracy'])\n",
    "history_bi3 = model_bi3.fit(train_gen, steps_per_epoch=steps_per_epoch, epochs=EPOCHS, validation_data=val_gen, validation_steps=val_steps).history"
   ]
  },
  {
   "cell_type": "code",
   "execution_count": null,
   "metadata": {
    "colab": {
     "base_uri": "https://localhost:8080/",
     "height": 547
    },
    "executionInfo": {
     "elapsed": 558,
     "status": "ok",
     "timestamp": 1669664646230,
     "user": {
      "displayName": "Shide Pu",
      "userId": "14076479773774825117"
     },
     "user_tz": 300
    },
    "id": "w3c1x5dYtF3a",
    "outputId": "77a44fd7-aa87-4beb-c424-ff26416f940e"
   },
   "outputs": [
    {
     "data": {
      "image/png": "[encoded data removed]",
      "text/plain": [
       "<Figure size 1152x576 with 2 Axes>"
      ]
     },
     "metadata": {
      "needs_background": "light"
     },
     "output_type": "display_data"
    }
   ],
   "source": [
    "plot_history(history_bi3, \"one layer of LSTM and Bidirectional LSTM\")"
   ]
  },
  {
   "cell_type": "markdown",
   "metadata": {},
   "source": [
    "## Model Evaluation"
   ]
  },
  {
   "cell_type": "code",
   "execution_count": null,
   "metadata": {
    "colab": {
     "base_uri": "https://localhost:8080/"
    },
    "executionInfo": {
     "elapsed": 20895,
     "status": "ok",
     "timestamp": 1669664674820,
     "user": {
      "displayName": "Shide Pu",
      "userId": "14076479773774825117"
     },
     "user_tz": 300
    },
    "id": "UwN115d7d5kP",
    "outputId": "0f024add-e957-41d0-ac78-1aa469c714df"
   },
   "outputs": [
    {
     "name": "stdout",
     "output_type": "stream",
     "text": [
      "2500/2500 [==============================] - 12s 5ms/step - loss: 1.6879 - accuracy: 0.5039\n"
     ]
    },
    {
     "data": {
      "text/plain": [
       "[1.6878947019577026, 0.5039250254631042]"
      ]
     },
     "execution_count": 92,
     "metadata": {},
     "output_type": "execute_result"
    }
   ],
   "source": [
    "model_lstm1.evaluate(test_gen, steps=2500)"
   ]
  },
  {
   "cell_type": "code",
   "execution_count": null,
   "metadata": {
    "colab": {
     "base_uri": "https://localhost:8080/"
    },
    "executionInfo": {
     "elapsed": 18181,
     "status": "ok",
     "timestamp": 1669664732807,
     "user": {
      "displayName": "Shide Pu",
      "userId": "14076479773774825117"
     },
     "user_tz": 300
    },
    "id": "M6PLaPhmtOqV",
    "outputId": "09f9514d-205e-4bc1-fd3c-d5cbb6e2f933"
   },
   "outputs": [
    {
     "name": "stdout",
     "output_type": "stream",
     "text": [
      "2500/2500 [==============================] - 18s 7ms/step - loss: 1.5888 - accuracy: 0.5271\n"
     ]
    },
    {
     "data": {
      "text/plain": [
       "[1.5888339281082153, 0.5270718932151794]"
      ]
     },
     "execution_count": 93,
     "metadata": {},
     "output_type": "execute_result"
    }
   ],
   "source": [
    "model_lstm3.evaluate(test_gen, steps=2500)"
   ]
  },
  {
   "cell_type": "code",
   "execution_count": null,
   "metadata": {
    "colab": {
     "base_uri": "https://localhost:8080/"
    },
    "executionInfo": {
     "elapsed": 24467,
     "status": "ok",
     "timestamp": 1669664757269,
     "user": {
      "displayName": "Shide Pu",
      "userId": "14076479773774825117"
     },
     "user_tz": 300
    },
    "id": "vGjXDuwKtV3o",
    "outputId": "3b9417f8-197d-4044-9eb8-717d0e1f3922"
   },
   "outputs": [
    {
     "name": "stdout",
     "output_type": "stream",
     "text": [
      "2500/2500 [==============================] - 24s 10ms/step - loss: 1.6678 - accuracy: 0.5123\n"
     ]
    },
    {
     "data": {
      "text/plain": [
       "[1.6677533388137817, 0.5123000144958496]"
      ]
     },
     "execution_count": 94,
     "metadata": {},
     "output_type": "execute_result"
    }
   ],
   "source": [
    "model_lstm5.evaluate(test_gen, steps=2500)"
   ]
  },
  {
   "cell_type": "code",
   "execution_count": null,
   "metadata": {
    "colab": {
     "base_uri": "https://localhost:8080/"
    },
    "executionInfo": {
     "elapsed": 15310,
     "status": "ok",
     "timestamp": 1669664772562,
     "user": {
      "displayName": "Shide Pu",
      "userId": "14076479773774825117"
     },
     "user_tz": 300
    },
    "id": "wg940jbptZIk",
    "outputId": "b830c8fb-ed3e-4128-8b13-af4f09cfa4bd"
   },
   "outputs": [
    {
     "name": "stdout",
     "output_type": "stream",
     "text": [
      "2500/2500 [==============================] - 15s 6ms/step - loss: 1.7027 - accuracy: 0.5058\n"
     ]
    },
    {
     "data": {
      "text/plain": [
       "[1.7027207612991333, 0.5058281421661377]"
      ]
     },
     "execution_count": 95,
     "metadata": {},
     "output_type": "execute_result"
    }
   ],
   "source": [
    "model_bi.evaluate(test_gen, steps=2500)"
   ]
  },
  {
   "cell_type": "code",
   "execution_count": null,
   "metadata": {
    "colab": {
     "base_uri": "https://localhost:8080/"
    },
    "executionInfo": {
     "elapsed": 21591,
     "status": "ok",
     "timestamp": 1669664794141,
     "user": {
      "displayName": "Shide Pu",
      "userId": "14076479773774825117"
     },
     "user_tz": 300
    },
    "id": "q9WcNGGkwCEt",
    "outputId": "fef67b5d-4ed9-485b-be31-c555e858a2ef"
   },
   "outputs": [
    {
     "name": "stdout",
     "output_type": "stream",
     "text": [
      "2500/2500 [==============================] - 21s 8ms/step - loss: 1.6551 - accuracy: 0.5161\n"
     ]
    },
    {
     "data": {
      "text/plain": [
       "[1.6550683975219727, 0.5161406397819519]"
      ]
     },
     "execution_count": 96,
     "metadata": {},
     "output_type": "execute_result"
    }
   ],
   "source": [
    "model_bi2.evaluate(test_gen, steps=2500)"
   ]
  },
  {
   "cell_type": "code",
   "execution_count": null,
   "metadata": {
    "colab": {
     "base_uri": "https://localhost:8080/"
    },
    "executionInfo": {
     "elapsed": 17628,
     "status": "ok",
     "timestamp": 1669664811755,
     "user": {
      "displayName": "Shide Pu",
      "userId": "14076479773774825117"
     },
     "user_tz": 300
    },
    "id": "78N20V0GwEA3",
    "outputId": "0318c861-e257-4a98-ddbc-ff08a0f1e5c0"
   },
   "outputs": [
    {
     "name": "stdout",
     "output_type": "stream",
     "text": [
      "2500/2500 [==============================] - 18s 7ms/step - loss: 1.6590 - accuracy: 0.5163\n"
     ]
    },
    {
     "data": {
      "text/plain": [
       "[1.6589900255203247, 0.516281247138977]"
      ]
     },
     "execution_count": 97,
     "metadata": {},
     "output_type": "execute_result"
    }
   ],
   "source": [
    "model_bi3.evaluate(test_gen, steps=2500)"
   ]
  },
  {
   "cell_type": "markdown",
   "metadata": {
    "id": "_PF9MPWTwsG1"
   },
   "source": [
    "Choose model using three layers of LSTM"
   ]
  },
  {
   "cell_type": "code",
   "execution_count": null,
   "metadata": {
    "id": "Ol6hdLRysGWt"
   },
   "outputs": [],
   "source": [
    "# save model\n",
    "model_lstm3.save('autocomplete_model.h5')\n",
    "pickle.dump(history_lstm3, open(\"history.p\", \"wb\"))"
   ]
  },
  {
   "cell_type": "markdown",
   "metadata": {},
   "source": [
    "## Load model"
   ]
  },
  {
   "cell_type": "code",
   "execution_count": null,
   "metadata": {},
   "outputs": [],
   "source": [
    "import numpy as np\n",
    "import re\n",
    "from keras.models import load_model\n",
    "import pickle"
   ]
  },
  {
   "cell_type": "code",
   "execution_count": 2,
   "metadata": {
    "executionInfo": {
     "elapsed": 3028,
     "status": "ok",
     "timestamp": 1669835784403,
     "user": {
      "displayName": "Shide Pu",
      "userId": "14076479773774825117"
     },
     "user_tz": 300
    },
    "id": "vSP8wN2qsLua"
   },
   "outputs": [],
   "source": [
    "model = load_model('autocomplete_model.h5')\n",
    "history = pickle.load(open(\"history.p\", \"rb\"))"
   ]
  },
  {
   "cell_type": "markdown",
   "metadata": {},
   "source": [
    "## Build autocomplete function using model"
   ]
  },
  {
   "cell_type": "code",
   "execution_count": 3,
   "metadata": {
    "executionInfo": {
     "elapsed": 304,
     "status": "ok",
     "timestamp": 1669835786150,
     "user": {
      "displayName": "Shide Pu",
      "userId": "14076479773774825117"
     },
     "user_tz": 300
    },
    "id": "lJQHydMneYeA"
   },
   "outputs": [],
   "source": [
    "class Autocomplete:\n",
    "    def __init__(self, model, set_of_chars, sequence_length, char_to_index, index_to_char):\n",
    "        self.model = model\n",
    "        self.set_of_chars = set_of_chars\n",
    "        self.set_length = len(set_of_chars)\n",
    "        self.sequence_length = sequence_length\n",
    "        self.char_to_index = char_to_index\n",
    "        self.index_to_char = index_to_char\n",
    "\n",
    "    def encode_input(self, text):\n",
    "        \"\"\"Perform one-hot encoding to input sentence\"\"\"\n",
    "        encoded_text = np.zeros((1, self.sequence_length, self.set_length))\n",
    "        for t, char in enumerate(text):\n",
    "            encoded_text[0, t, self.char_to_index[char]] = 1    \n",
    "        return encoded_text\n",
    "\n",
    "    def top_prediction(self, preds, n):\n",
    "        \"\"\"Get top n predictions\"\"\"\n",
    "        preds = np.array(preds)\n",
    "        # softmax\n",
    "        preds = np.log(preds)\n",
    "        exp_preds = np.exp(preds)\n",
    "        preds = exp_preds / np.sum(exp_preds)\n",
    "        return np.argsort(preds)[:len(preds)-n-1:-1]\n",
    "\n",
    "    def predict_word(self, text):\n",
    "        \"\"\"Make prediction\"\"\"\n",
    "        original_text = text\n",
    "        completion = ''\n",
    "        # continue making prediction until hit white space\n",
    "        while True:\n",
    "            x = self.encode_input(text) # encode input sentence\n",
    "            preds = self.model.predict(x, verbose=0)[0] # prediction\n",
    "            next_index = self.top_prediction(preds, n=1)[0] # the most likely next character\n",
    "            next_char = self.index_to_char[next_index]\n",
    "            text = text[1:] + next_char # add prediction to text and move one position\n",
    "            completion += next_char\n",
    "            # check if prediction is white space or prediction begins to repeat or completion length is more than 15\n",
    "            if (next_char == ' ') or (completion[-1:] == completion[-2:-1]) or (len(completion) > 15):\n",
    "                return completion\n",
    "  \n",
    "    def predict_words_n(self, text, n):\n",
    "        encoded_text = self.encode_input(text)\n",
    "        preds = self.model.predict(encoded_text, verbose=0)[0]\n",
    "        next_indices = self.top_prediction(preds, n) # top n predictions\n",
    "        # iterate every character in top n predictions\n",
    "        return [self.index_to_char[index] + self.predict_word(text[1:] + self.index_to_char[index]) for index in next_indices]\n",
    "\n",
    "    def autocomplete(self, sentence, n=3):\n",
    "        \"\"\"autocomplete function\"\"\"\n",
    "        # if the input sentence doesn't have enough characters\n",
    "        if len(sentence) < self.sequence_length:\n",
    "            print(sentence)\n",
    "            print(f\"Please provde at least {self.sequence_length} characters\")\n",
    "        else:\n",
    "            seq = sentence[len(sentence)-self.sequence_length:]\n",
    "            predictions = self.predict_words_n(seq.lower(), n)\n",
    "            print(sentence)\n",
    "            print(predictions)\n",
    "            return predictions"
   ]
  },
  {
   "cell_type": "markdown",
   "metadata": {},
   "source": [
    "# Test autocomplete function"
   ]
  },
  {
   "cell_type": "code",
   "execution_count": 4,
   "metadata": {
    "executionInfo": {
     "elapsed": 293,
     "status": "ok",
     "timestamp": 1669835789430,
     "user": {
      "displayName": "Shide Pu",
      "userId": "14076479773774825117"
     },
     "user_tz": 300
    },
    "id": "685APPEEo6Ly"
   },
   "outputs": [],
   "source": [
    "set_of_chars = [' ', '!', ',', '.', '?', 'a', 'b', 'c', 'd', 'e', 'f', 'g', 'h', 'i', 'j',\n",
    "  'k', 'l', 'm', 'n', 'o', 'p', 'q', 'r', 's', 't', 'u', 'v', 'w', 'x', 'y', 'z']\n",
    "char_to_index = dict((c, i) for i, c in enumerate(set_of_chars))\n",
    "index_to_char = dict((i, c) for i, c in enumerate(set_of_chars))\n",
    "sequence_length = 32\n",
    "word_completion = Autocomplete(model, set_of_chars, sequence_length, char_to_index, index_to_char)"
   ]
  },
  {
   "cell_type": "code",
   "execution_count": 5,
   "metadata": {
    "colab": {
     "base_uri": "https://localhost:8080/"
    },
    "executionInfo": {
     "elapsed": 8805,
     "status": "ok",
     "timestamp": 1669835800366,
     "user": {
      "displayName": "Shide Pu",
      "userId": "14076479773774825117"
     },
     "user_tz": 300
    },
    "id": "QFU_cHNqpVCb",
    "outputId": "6b175fbf-5a43-44f5-a91a-7e25112f50dc"
   },
   "outputs": [
    {
     "name": "stdout",
     "output_type": "stream",
     "text": [
      "This is an incomplete example se\n",
      "['rved ', 'cret ', 'en ', 'ason ', 't ']\n",
      "Sensitivity refers to the probab\n",
      "['ly ', ' and ', 'ily ', 'e ', 'ory ']\n",
      "Natural language processing is a subfield of linguistics, computer sci\n",
      "['ence ', 'le ', 'te ', 'nce ', 're ']\n",
      "Mayor specializes in ancient history\n",
      "[' of ', ', ', '. ', 'ing ', 's ']\n",
      "Since number, mayor has been a research\n",
      "[' and ', 'er ', ', ', 'ing ', '. ']\n",
      "Sentence is a set of words that is comp\n",
      "['any ', 'leted ', 'eted ', 'osed ', 'rised ']\n",
      "Machine learning is a field of inquiry devoted to und\n",
      "['er ', 'ive ', 'ar ', 'ourgh ', 'ust ']\n"
     ]
    }
   ],
   "source": [
    "sentence_example = [\"This is an incomplete example se\", \n",
    "           \"Sensitivity refers to the probab\", \n",
    "           \"Natural language processing is a subfield of linguistics, computer sci\", \n",
    "           \"Mayor specializes in ancient history\",\n",
    "           \"Since number, mayor has been a research\",\n",
    "           \"Sentence is a set of words that is comp\",\n",
    "           \"Machine learning is a field of inquiry devoted to und\"]\n",
    "\n",
    "for sentence in sentence_example:\n",
    "    word_completion.autocomplete(sentence, 5)"
   ]
  }
 ],
 "metadata": {
  "accelerator": "GPU",
  "colab": {
   "provenance": []
  },
  "gpuClass": "standard",
  "kernelspec": {
   "display_name": "Python 3 (ipykernel)",
   "language": "python",
   "name": "python3"
  },
  "language_info": {
   "codemirror_mode": {
    "name": "ipython",
    "version": 3
   },
   "file_extension": ".py",
   "mimetype": "text/x-python",
   "name": "python",
   "nbconvert_exporter": "python",
   "pygments_lexer": "ipython3",
   "version": "3.9.7"
  }
 },
 "nbformat": 4,
 "nbformat_minor": 1
}
